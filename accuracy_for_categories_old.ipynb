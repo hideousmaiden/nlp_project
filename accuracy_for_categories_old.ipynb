{
  "nbformat": 4,
  "nbformat_minor": 0,
  "metadata": {
    "colab": {
      "provenance": []
    },
    "kernelspec": {
      "name": "python3",
      "display_name": "Python 3"
    },
    "language_info": {
      "name": "python"
    }
  },
  "cells": [
    {
      "cell_type": "code",
      "source": [
        "import re"
      ],
      "metadata": {
        "id": "O4y-pKlvO8Pp"
      },
      "execution_count": 39,
      "outputs": []
    },
    {
      "cell_type": "code",
      "execution_count": 7,
      "metadata": {
        "id": "JKa5RcuZAFZT"
      },
      "outputs": [],
      "source": [
        "#знакомьтесь франкенштейн\n",
        "\n",
        "from transformers import AutoModelForSequenceClassification, AutoTokenizer\n",
        "\n",
        "model_name_food = 'numblilbug/food-rubert-sentiment-model'\n",
        "model_name_interior = 'numblilbug/interior-rubert-sentiment-model'\n",
        "model_name_price = 'numblilbug/price-rubert-sentiment-model'\n",
        "model_name_service = 'numblilbug/service-rubert-sentiment-model'\n",
        "model_name_whole = 'numblilbug/service-rubert-sentiment-model'\n",
        "\n",
        "food_tokenizer = AutoTokenizer.from_pretrained(model_name_food)\n",
        "food_model = AutoModelForSequenceClassification.from_pretrained(model_name_food)\n",
        "\n",
        "interior_tokenizer = AutoTokenizer.from_pretrained(model_name_interior)\n",
        "interior_model = AutoModelForSequenceClassification.from_pretrained(model_name_interior)\n",
        "\n",
        "price_tokenizer = AutoTokenizer.from_pretrained(model_name_price)\n",
        "price_model = AutoModelForSequenceClassification.from_pretrained(model_name_price)\n",
        "\n",
        "service_tokenizer = AutoTokenizer.from_pretrained(model_name_service)\n",
        "service_model = AutoModelForSequenceClassification.from_pretrained(model_name_service)\n",
        "\n",
        "whole_tokenizer = AutoTokenizer.from_pretrained(model_name_whole)\n",
        "whole_model = AutoModelForSequenceClassification.from_pretrained(model_name_whole)\n"
      ]
    },
    {
      "cell_type": "code",
      "source": [
        "file_path = '/content/dev_reviews (1).txt'\n",
        "\n",
        "\n",
        "with open(file_path, 'r', encoding='utf-8') as file:\n",
        "    file_content = file.read()\n",
        "    reviews_list = [line.split(maxsplit=1)[1].strip() for line in file.readlines()]\n",
        "numbers = re.findall(r'\\b\\d+\\b', file_content)\n"
      ],
      "metadata": {
        "id": "BpZZg3MVAPXv"
      },
      "execution_count": 40,
      "outputs": []
    },
    {
      "cell_type": "code",
      "source": [
        "from transformers import pipeline\n",
        "import torch\n",
        "\n",
        "def predict_aspect(text, tokenizer, model):\n",
        "    inputs = tokenizer(text, return_tensors=\"pt\")\n",
        "    outputs = model(**inputs)\n",
        "    logits = outputs.logits\n",
        "    probabilities = torch.sigmoid(logits)\n",
        "    predicted_class = torch.argmax(probabilities, dim=1)\n",
        "    return predicted_class.item()\n",
        "\n",
        "\n",
        "food_predictions = [predict_aspect(text, food_tokenizer, food_model) for text in reviews_list]\n"
      ],
      "metadata": {
        "id": "gfhL6dQ5CKbc"
      },
      "execution_count": 30,
      "outputs": []
    },
    {
      "cell_type": "code",
      "source": [
        "interior_predictions = [predict_aspect(text, interior_tokenizer, interior_model) for text in reviews_list]\n",
        "price_predictions = [predict_aspect(text, price_tokenizer, price_model) for text in reviews_list]\n",
        "service_predictions = [predict_aspect(text, service_tokenizer, service_model) for text in reviews_list]\n",
        "whole_predictions = [predict_aspect(text, whole_tokenizer, whole_model) for text in reviews_list]\n"
      ],
      "metadata": {
        "id": "DOMO0QLJGtcN"
      },
      "execution_count": 32,
      "outputs": []
    },
    {
      "cell_type": "code",
      "source": [
        "file_path = '/content/dev_cats (1).txt'\n",
        "\n",
        "sentiment_mapping = {'positive': 0, 'negative': 1, 'both': 2, 'neutral': 3, 'absence': 4}\n",
        "\n",
        "\n",
        "food_sentiments = []\n",
        "interior_sentiments = []\n",
        "price_sentiments = []\n",
        "whole_sentiments = []\n",
        "service_sentiments = []\n",
        "\n",
        "\n",
        "with open(file_path, 'r') as file:\n",
        "    for line in file:\n",
        "        if not line.strip():\n",
        "            continue\n",
        "\n",
        "        parts = line.strip().split('\\t')\n",
        "        aspect = parts[1]\n",
        "        sentiment_word = parts[2]\n",
        "\n",
        "\n",
        "        sentiment_number = sentiment_mapping.get(sentiment_word, -1)\n",
        "\n",
        "        if aspect == 'Food':\n",
        "            food_sentiments.append(sentiment_number)\n",
        "        elif aspect == 'Interior':\n",
        "            interior_sentiments.append(sentiment_number)\n",
        "        elif aspect == 'Price':\n",
        "            price_sentiments.append(sentiment_number)\n",
        "        elif aspect == 'Whole':\n",
        "            whole_sentiments.append(sentiment_number)\n",
        "        elif aspect == 'Service':\n",
        "            service_sentiments.append(sentiment_number)\n",
        "\n"
      ],
      "metadata": {
        "id": "-PUzYQT6OQCz"
      },
      "execution_count": 46,
      "outputs": []
    },
    {
      "cell_type": "code",
      "source": [
        "accuracy_dict = {}\n",
        "\n",
        "\n",
        "def calculate_accuracy(actual, predicted):\n",
        "    correct = sum(1 for a, p in zip(actual, predicted) if a == p)\n",
        "    total = len(actual)\n",
        "    return correct / total\n",
        "\n",
        "accuracy_dict['Food'] = calculate_accuracy(food_sentiments, food_predictions)\n",
        "accuracy_dict['Interior'] = calculate_accuracy(interior_sentiments, interior_predictions)\n",
        "accuracy_dict['Price'] = calculate_accuracy(price_sentiments, price_predictions)\n",
        "accuracy_dict['Whole'] = calculate_accuracy(whole_sentiments, whole_predictions)\n",
        "accuracy_dict['Service'] = calculate_accuracy(service_sentiments, service_predictions)"
      ],
      "metadata": {
        "id": "CgKNZ7CHQGeI"
      },
      "execution_count": 47,
      "outputs": []
    },
    {
      "cell_type": "code",
      "source": [
        "all_actual_sentiments = food_sentiments + interior_sentiments + price_sentiments + whole_sentiments + service_sentiments\n",
        "all_predicted_sentiments = food_predictions + interior_predictions + price_predictions + whole_predictions + service_predictions\n",
        "\n",
        "overall_accuracy = calculate_accuracy(all_actual_sentiments, all_predicted_sentiments)"
      ],
      "metadata": {
        "id": "ZUV55yISQwGE"
      },
      "execution_count": 48,
      "outputs": []
    },
    {
      "cell_type": "code",
      "source": [
        "overall_accuracy"
      ],
      "metadata": {
        "colab": {
          "base_uri": "https://localhost:8080/"
        },
        "id": "6WXXRtrVRAko",
        "outputId": "0b4532f5-88ed-4b18-e091-7ec677dc86e4"
      },
      "execution_count": 49,
      "outputs": [
        {
          "output_type": "execute_result",
          "data": {
            "text/plain": [
              "0.7014084507042253"
            ]
          },
          "metadata": {},
          "execution_count": 49
        }
      ]
    }
  ]
}
